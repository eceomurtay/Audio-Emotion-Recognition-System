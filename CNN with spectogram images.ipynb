{
 "cells": [
  {
   "cell_type": "code",
   "execution_count": 2,
   "metadata": {},
   "outputs": [],
   "source": [
    "import numpy as np\n",
    "import pandas as pd\n",
    "import matplotlib.pyplot as plt\n",
    "from glob import glob\n",
    "import librosa as lr\n",
    "import librosa.display\n",
    "import IPython.display as ipd"
   ]
  },
  {
   "cell_type": "code",
   "execution_count": 3,
   "metadata": {},
   "outputs": [],
   "source": [
    "data_dir = \"./Audio\"\n",
    "audio_files = glob(data_dir + \"/*.wav\")"
   ]
  },
  {
   "cell_type": "code",
   "execution_count": 4,
   "metadata": {},
   "outputs": [],
   "source": [
    "data = pd.DataFrame()\n",
    "Emotion = []\n",
    "Emotional_Intensity = []\n",
    "Statement = []\n",
    "Statement_Text = []\n",
    "Repetition = []\n",
    "Actor = []"
   ]
  },
  {
   "cell_type": "code",
   "execution_count": 5,
   "metadata": {},
   "outputs": [],
   "source": [
    "for i in range(len(audio_files)):\n",
    "    temp = audio_files[i][audio_files[i].index(\"\\\\\")+1:audio_files[0].index(\".wav\")].split(\"-\")\n",
    "    \n",
    "    # creating Emotion\n",
    "    if temp[2] == \"01\":\n",
    "        Emotion.append(1)\n",
    "    if temp[2] == \"02\":\n",
    "        Emotion.append(2)\n",
    "    if temp[2] == \"03\":\n",
    "        Emotion.append(3)\n",
    "    if temp[2] == \"04\":\n",
    "        Emotion.append(4)\n",
    "    if temp[2] == \"05\":\n",
    "        Emotion.append(5)\n",
    "    if temp[2] == \"06\":\n",
    "        Emotion.append(6)\n",
    "    if temp[2] == \"07\":\n",
    "        Emotion.append(7)\n",
    "    if temp[2] == \"08\":\n",
    "        Emotion.append(8)\n",
    "\n",
    "   ############################\n",
    "\n",
    "    # creating Emotinal_Intensity\n",
    "    if temp[3] == \"01\":\n",
    "        Emotional_Intensity.append(1)\n",
    "    if temp[3] == \"02\":\n",
    "        Emotional_Intensity.append(2)\n",
    "        \n",
    "   #############################\n",
    "\n",
    "    # creating Statement\n",
    "    if temp[4] == \"01\":\n",
    "        Statement.append(1)\n",
    "        Statement_Text.append(\"Kids are talking by the door\")\n",
    "    if temp[4] == \"02\":\n",
    "        Statement.append(2)\n",
    "        Statement_Text.append(\"Dogs are sitting by the door\")\n",
    "        \n",
    "    ############################\n",
    "    \n",
    "    # creating Repetition\n",
    "    if temp[5] == \"01\":\n",
    "        Repetition.append(1)\n",
    "    if temp[5] == \"02\":\n",
    "        Repetition.append(2)\n",
    "        \n",
    "    ###########################\n",
    "    \n",
    "    # creating actor gender\n",
    "    if int(temp[6])%2 == 0:   # even --> female\n",
    "        Actor.append(1)\n",
    "    if int(temp[6])%2 == 1:   # odd --> male\n",
    "        Actor.append(0)    \n"
   ]
  },
  {
   "cell_type": "code",
   "execution_count": 6,
   "metadata": {},
   "outputs": [],
   "source": [
    "data[\"Emotion\"] = Emotion\n",
    "data[\"Emotional_Intensity\"] = Emotional_Intensity\n",
    "data[\"Statement\"] = Statement\n",
    "data[\"Statement_Text\"] = Statement_Text\n",
    "data[\"Repetition\"] = Repetition\n",
    "data[\"Actor_Gender\"] = Actor"
   ]
  },
  {
   "cell_type": "code",
   "execution_count": 7,
   "metadata": {},
   "outputs": [],
   "source": [
    "import os\n",
    "import wave\n",
    "import pylab\n",
    "#functions for extracting spectogram images\n",
    "def graph_spectrogram(wav_file):\n",
    "    sound_info, frame_rate = get_wav_info(wav_file)\n",
    "    pylab.figure(num=None, figsize=(19, 12))\n",
    "    pylab.subplot(111)\n",
    "    pylab.title('spectrogram of %r' % wav_file)\n",
    "    pylab.specgram(sound_info, Fs=frame_rate)\n",
    "    pylab.savefig(wav_file[8:-4]+\".png\")\n",
    "def get_wav_info(wav_file):\n",
    "    wav = wave.open(wav_file, 'r')\n",
    "    frames = wav.readframes(-1)\n",
    "    sound_info = pylab.fromstring(frames, 'int16')\n",
    "    frame_rate = wav.getframerate()\n",
    "    wav.close()\n",
    "    return sound_info, frame_rate"
   ]
  },
  {
   "cell_type": "code",
   "execution_count": null,
   "metadata": {},
   "outputs": [],
   "source": [
    "#creating spectogram images from audio\n",
    "for i in audio_files:\n",
    "    temp=i\n",
    "    graph_spectrogram(temp)"
   ]
  },
  {
   "cell_type": "code",
   "execution_count": 8,
   "metadata": {},
   "outputs": [],
   "source": [
    "#normalizing data\n",
    "def normalize_gray(array):\n",
    "    return (array - array.min())/(array.max() - array.min())"
   ]
  },
  {
   "cell_type": "code",
   "execution_count": null,
   "metadata": {},
   "outputs": [],
   "source": [
    "from PIL import Image\n",
    "import os\n",
    "#this method creates resized gray-level spectogram images from original spectogram images.\n",
    "def resize(image_file):\n",
    "    img_org = Image.open(image_file).convert(\"L\")\n",
    "    width_org, height_org = img_org.size\n",
    "    #resizing factor in this case it is 0.2\n",
    "    factor = 0.20\n",
    "    width = int(width_org * factor)\n",
    "    height = int(height_org * factor)\n",
    "    img_anti = img_org.resize((width, height), Image.ANTIALIAS)\n",
    "    name, ext = os.path.splitext(image_file)\n",
    "    new_image_file = \"%s%s\" % (name,ext)\n",
    "    img_anti.save(new_image_file)"
   ]
  },
  {
   "cell_type": "code",
   "execution_count": 9,
   "metadata": {},
   "outputs": [],
   "source": [
    "#resizing original spectogram images\n",
    "data_dir1 = \"E:/Masaüstü/spectogramresized\"\n",
    "spectogram_images = glob(data_dir1 + \"/*.png\")\n",
    "for i in spectogram_images:\n",
    "    resize(i)"
   ]
  },
  {
   "cell_type": "code",
   "execution_count": 10,
   "metadata": {},
   "outputs": [],
   "source": [
    "dataset=[]\n",
    "from PIL import Image\n",
    "for i in spectogram_images:\n",
    "    myTemp=Image.open(i)\n",
    "    myArray=np.asarray(myTemp, dtype=\"float32\")\n",
    "    dataset.append(normalize_gray(myArray))"
   ]
  },
  {
   "cell_type": "code",
   "execution_count": 12,
   "metadata": {},
   "outputs": [
    {
     "name": "stdout",
     "output_type": "stream",
     "text": [
      "Train on 1008 samples, validate on 432 samples\n",
      "Epoch 1/20\n",
      "1008/1008 [==============================] - 94s 93ms/step - loss: 2.1120 - accuracy: 0.1458 - val_loss: 2.0646 - val_accuracy: 0.1481\n",
      "Epoch 2/20\n",
      "1008/1008 [==============================] - 102s 102ms/step - loss: 1.9787 - accuracy: 0.2173 - val_loss: 1.8642 - val_accuracy: 0.3032\n",
      "Epoch 3/20\n",
      "1008/1008 [==============================] - 106s 105ms/step - loss: 1.7758 - accuracy: 0.3363 - val_loss: 1.8201 - val_accuracy: 0.3056\n",
      "Epoch 4/20\n",
      "1008/1008 [==============================] - 92s 92ms/step - loss: 1.5161 - accuracy: 0.4514 - val_loss: 1.7607 - val_accuracy: 0.3819\n",
      "Epoch 5/20\n",
      "1008/1008 [==============================] - 88s 87ms/step - loss: 1.2858 - accuracy: 0.5417 - val_loss: 1.6654 - val_accuracy: 0.3912\n",
      "Epoch 6/20\n",
      "1008/1008 [==============================] - 90s 89ms/step - loss: 1.0796 - accuracy: 0.6260 - val_loss: 1.6528 - val_accuracy: 0.4676\n",
      "Epoch 7/20\n",
      "1008/1008 [==============================] - 92s 91ms/step - loss: 0.8046 - accuracy: 0.7242 - val_loss: 1.7201 - val_accuracy: 0.4491\n",
      "Epoch 8/20\n",
      "1008/1008 [==============================] - 93s 92ms/step - loss: 0.5776 - accuracy: 0.8194 - val_loss: 2.0173 - val_accuracy: 0.4676\n",
      "Epoch 9/20\n",
      "1008/1008 [==============================] - 93s 92ms/step - loss: 0.3761 - accuracy: 0.8869 - val_loss: 2.1302 - val_accuracy: 0.4745\n",
      "Epoch 10/20\n",
      "1008/1008 [==============================] - 84s 83ms/step - loss: 0.2612 - accuracy: 0.9196 - val_loss: 2.2880 - val_accuracy: 0.4167\n",
      "Epoch 11/20\n",
      "1008/1008 [==============================] - 90s 89ms/step - loss: 0.1256 - accuracy: 0.9732 - val_loss: 2.5358 - val_accuracy: 0.4722\n",
      "Epoch 12/20\n",
      "1008/1008 [==============================] - 86s 86ms/step - loss: 0.0696 - accuracy: 0.9881 - val_loss: 2.8317 - val_accuracy: 0.4560\n",
      "Epoch 13/20\n",
      "1008/1008 [==============================] - 81s 80ms/step - loss: 0.1135 - accuracy: 0.9653 - val_loss: 2.9151 - val_accuracy: 0.4792\n",
      "Epoch 14/20\n",
      "1008/1008 [==============================] - 83s 82ms/step - loss: 0.0862 - accuracy: 0.9762 - val_loss: 3.0795 - val_accuracy: 0.4120\n",
      "Epoch 15/20\n",
      "1008/1008 [==============================] - 84s 83ms/step - loss: 0.0270 - accuracy: 0.9980 - val_loss: 3.0486 - val_accuracy: 0.4653\n",
      "Epoch 16/20\n",
      "1008/1008 [==============================] - 84s 83ms/step - loss: 0.0090 - accuracy: 1.0000 - val_loss: 3.1356 - val_accuracy: 0.4792\n",
      "Epoch 17/20\n",
      "1008/1008 [==============================] - 88s 87ms/step - loss: 0.0033 - accuracy: 1.0000 - val_loss: 3.2411 - val_accuracy: 0.4838\n",
      "Epoch 18/20\n",
      "1008/1008 [==============================] - 81s 80ms/step - loss: 0.0021 - accuracy: 1.0000 - val_loss: 3.2975 - val_accuracy: 0.4769\n",
      "Epoch 19/20\n",
      "1008/1008 [==============================] - 91s 90ms/step - loss: 0.0016 - accuracy: 1.0000 - val_loss: 3.3668 - val_accuracy: 0.4792\n",
      "Epoch 20/20\n",
      "1008/1008 [==============================] - 83s 83ms/step - loss: 0.0014 - accuracy: 1.0000 - val_loss: 3.4235 - val_accuracy: 0.4792\n"
     ]
    },
    {
     "data": {
      "image/png": "[encoded data removed]",
      "text/plain": [
       "<Figure size 432x288 with 2 Axes>"
      ]
     },
     "metadata": {
      "needs_background": "light"
     },
     "output_type": "display_data"
    }
   ],
   "source": [
    "from sklearn.model_selection import train_test_split\n",
    "from matplotlib import pyplot\n",
    "X_train, X_test, y_train, y_test = train_test_split(np.array(dataset),data[\"Emotion\"].to_numpy(), test_size=0.30, random_state=42,shuffle=True)\n",
    "X_train = X_train.reshape(len(X_train),273,172,1)\n",
    "X_test = X_test.reshape(len(X_test),273,172,1)\n",
    "from keras.models import Sequential\n",
    "from keras.layers import Dense, Conv2D, Flatten\n",
    "model = Sequential()\n",
    "model.add(Conv2D(64, kernel_size=3, activation=\"relu\", input_shape=(273,172,1)))\n",
    "model.add(Dense(9, activation=\"relu\"))\n",
    "model.add(Dense(64, activation=\"relu\"))\n",
    "model.add(Dense(9, activation=\"relu\"))\n",
    "model.add(Conv2D(16, kernel_size=3, activation=\"relu\"))\n",
    "model.add(Dense(9, activation=\"relu\"))\n",
    "model.add(Flatten())\n",
    "model.add(Dense(9, activation=\"softmax\"))\n",
    "model.compile(optimizer='adam', loss='sparse_categorical_crossentropy', metrics=['accuracy'])\n",
    "history =model.fit(X_train, y_train, validation_data=(X_test, y_test), epochs=20)\n",
    "pyplot.subplot(211)\n",
    "pyplot.title('Loss')\n",
    "pyplot.plot(history.history['loss'], label='train')\n",
    "pyplot.plot(history.history['val_loss'], label='test')\n",
    "pyplot.legend()\n",
    "pyplot.subplot(212)\n",
    "pyplot.title('Accuracy')\n",
    "pyplot.plot(history.history['accuracy'], label='train')\n",
    "pyplot.plot(history.history['val_accuracy'], label='test')\n",
    "pyplot.legend()\n",
    "pyplot.show()"
   ]
  },
  {
   "cell_type": "code",
   "execution_count": null,
   "metadata": {},
   "outputs": [],
   "source": []
  }
 ],
 "metadata": {
  "kernelspec": {
   "display_name": "Python 3",
   "language": "python",
   "name": "python3"
  },
  "language_info": {
   "codemirror_mode": {
    "name": "ipython",
    "version": 3
   },
   "file_extension": ".py",
   "mimetype": "text/x-python",
   "name": "python",
   "nbconvert_exporter": "python",
   "pygments_lexer": "ipython3",
   "version": "3.7.4"
  }
 },
 "nbformat": 4,
 "nbformat_minor": 2
}
